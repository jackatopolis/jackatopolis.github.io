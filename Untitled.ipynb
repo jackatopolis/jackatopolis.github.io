{
 "cells": [
  {
   "cell_type": "code",
   "execution_count": 5,
   "id": "42c70f8b",
   "metadata": {},
   "outputs": [],
   "source": [
    "from bs4 import BeautifulSoup as bs\n",
    "import matplotlib.pyplot as plt\n",
    "import requests as req\n",
    "from splinter import Browser\n",
    "from webdriver_manager.chrome import ChromeDriverManager\n",
    "import pandas as pd"
   ]
  },
  {
   "cell_type": "code",
   "execution_count": 2,
   "id": "ef743777",
   "metadata": {},
   "outputs": [
    {
     "name": "stderr",
     "output_type": "stream",
     "text": [
      "\n",
      "\n",
      "====== WebDriver manager ======\n",
      "Current google-chrome version is 94.0.4606\n",
      "Get LATEST driver version for 94.0.4606\n",
      "Driver [/Users/jackcohen/.wdm/drivers/chromedriver/mac64/94.0.4606.61/chromedriver] found in cache\n"
     ]
    }
   ],
   "source": [
    "executable_path = {'executable_path': ChromeDriverManager().install()}\n",
    "browser = Browser('chrome', **executable_path, headless=False)"
   ]
  },
  {
   "cell_type": "code",
   "execution_count": 84,
   "id": "c8c4cb6c",
   "metadata": {},
   "outputs": [
    {
     "data": {
      "text/html": [
       "<div>\n",
       "<style scoped>\n",
       "    .dataframe tbody tr th:only-of-type {\n",
       "        vertical-align: middle;\n",
       "    }\n",
       "\n",
       "    .dataframe tbody tr th {\n",
       "        vertical-align: top;\n",
       "    }\n",
       "\n",
       "    .dataframe thead tr th {\n",
       "        text-align: left;\n",
       "    }\n",
       "</style>\n",
       "<table border=\"1\" class=\"dataframe\">\n",
       "  <thead>\n",
       "    <tr>\n",
       "      <th></th>\n",
       "      <th>Date</th>\n",
       "      <th>Unnamed: 1_level_0</th>\n",
       "      <th>Name</th>\n",
       "      <th>Type</th>\n",
       "      <th>Details</th>\n",
       "    </tr>\n",
       "    <tr>\n",
       "      <th></th>\n",
       "      <th>Date</th>\n",
       "      <th>Unnamed: 1_level_1</th>\n",
       "      <th>Name</th>\n",
       "      <th>Type</th>\n",
       "      <th>Details</th>\n",
       "    </tr>\n",
       "  </thead>\n",
       "  <tbody>\n",
       "    <tr>\n",
       "      <th>0</th>\n",
       "      <td>Jan 1</td>\n",
       "      <td>Friday</td>\n",
       "      <td>New Year's Day</td>\n",
       "      <td>State holiday</td>\n",
       "      <td>All</td>\n",
       "    </tr>\n",
       "    <tr>\n",
       "      <th>1</th>\n",
       "      <td>Jan 1</td>\n",
       "      <td>Friday</td>\n",
       "      <td>New Year's Day</td>\n",
       "      <td>Federal Holiday</td>\n",
       "      <td>NaN</td>\n",
       "    </tr>\n",
       "    <tr>\n",
       "      <th>2</th>\n",
       "      <td>Jan 4</td>\n",
       "      <td>Monday</td>\n",
       "      <td>World Braille Day</td>\n",
       "      <td>United Nations observance</td>\n",
       "      <td>NaN</td>\n",
       "    </tr>\n",
       "    <tr>\n",
       "      <th>3</th>\n",
       "      <td>Jan 6</td>\n",
       "      <td>Wednesday</td>\n",
       "      <td>Epiphany</td>\n",
       "      <td>Christian</td>\n",
       "      <td>NaN</td>\n",
       "    </tr>\n",
       "    <tr>\n",
       "      <th>4</th>\n",
       "      <td>Jan 7</td>\n",
       "      <td>Thursday</td>\n",
       "      <td>Orthodox Christmas Day</td>\n",
       "      <td>Orthodox</td>\n",
       "      <td>NaN</td>\n",
       "    </tr>\n",
       "    <tr>\n",
       "      <th>...</th>\n",
       "      <td>...</td>\n",
       "      <td>...</td>\n",
       "      <td>...</td>\n",
       "      <td>...</td>\n",
       "      <td>...</td>\n",
       "    </tr>\n",
       "    <tr>\n",
       "      <th>507</th>\n",
       "      <td>Dec 31</td>\n",
       "      <td>Friday</td>\n",
       "      <td>Day off for New Year's Day</td>\n",
       "      <td>Federal Holiday</td>\n",
       "      <td>NaN</td>\n",
       "    </tr>\n",
       "    <tr>\n",
       "      <th>508</th>\n",
       "      <td>Dec 31</td>\n",
       "      <td>Friday</td>\n",
       "      <td>Day off for New Year's Day</td>\n",
       "      <td>State holiday</td>\n",
       "      <td>All except MA, MS, NY, RI, TX, WI</td>\n",
       "    </tr>\n",
       "    <tr>\n",
       "      <th>509</th>\n",
       "      <td>Dec 31</td>\n",
       "      <td>Friday</td>\n",
       "      <td>New Year's Eve</td>\n",
       "      <td>Observance</td>\n",
       "      <td>NaN</td>\n",
       "    </tr>\n",
       "    <tr>\n",
       "      <th>510</th>\n",
       "      <td>Dec 31</td>\n",
       "      <td>Friday</td>\n",
       "      <td>New Year's Eve</td>\n",
       "      <td>State holiday</td>\n",
       "      <td>LA, MI, WI</td>\n",
       "    </tr>\n",
       "    <tr>\n",
       "      <th>511</th>\n",
       "      <td>* Observed only in part of this state. ** Obse...</td>\n",
       "      <td>* Observed only in part of this state. ** Obse...</td>\n",
       "      <td>* Observed only in part of this state. ** Obse...</td>\n",
       "      <td>* Observed only in part of this state. ** Obse...</td>\n",
       "      <td>* Observed only in part of this state. ** Obse...</td>\n",
       "    </tr>\n",
       "  </tbody>\n",
       "</table>\n",
       "<p>512 rows × 5 columns</p>\n",
       "</div>"
      ],
      "text/plain": [
       "                                                  Date  \\\n",
       "                                                  Date   \n",
       "0                                                Jan 1   \n",
       "1                                                Jan 1   \n",
       "2                                                Jan 4   \n",
       "3                                                Jan 6   \n",
       "4                                                Jan 7   \n",
       "..                                                 ...   \n",
       "507                                             Dec 31   \n",
       "508                                             Dec 31   \n",
       "509                                             Dec 31   \n",
       "510                                             Dec 31   \n",
       "511  * Observed only in part of this state. ** Obse...   \n",
       "\n",
       "                                    Unnamed: 1_level_0  \\\n",
       "                                    Unnamed: 1_level_1   \n",
       "0                                               Friday   \n",
       "1                                               Friday   \n",
       "2                                               Monday   \n",
       "3                                            Wednesday   \n",
       "4                                             Thursday   \n",
       "..                                                 ...   \n",
       "507                                             Friday   \n",
       "508                                             Friday   \n",
       "509                                             Friday   \n",
       "510                                             Friday   \n",
       "511  * Observed only in part of this state. ** Obse...   \n",
       "\n",
       "                                                  Name  \\\n",
       "                                                  Name   \n",
       "0                                       New Year's Day   \n",
       "1                                       New Year's Day   \n",
       "2                                    World Braille Day   \n",
       "3                                             Epiphany   \n",
       "4                               Orthodox Christmas Day   \n",
       "..                                                 ...   \n",
       "507                         Day off for New Year's Day   \n",
       "508                         Day off for New Year's Day   \n",
       "509                                     New Year's Eve   \n",
       "510                                     New Year's Eve   \n",
       "511  * Observed only in part of this state. ** Obse...   \n",
       "\n",
       "                                                  Type  \\\n",
       "                                                  Type   \n",
       "0                                        State holiday   \n",
       "1                                      Federal Holiday   \n",
       "2                            United Nations observance   \n",
       "3                                            Christian   \n",
       "4                                             Orthodox   \n",
       "..                                                 ...   \n",
       "507                                    Federal Holiday   \n",
       "508                                      State holiday   \n",
       "509                                         Observance   \n",
       "510                                      State holiday   \n",
       "511  * Observed only in part of this state. ** Obse...   \n",
       "\n",
       "                                               Details  \n",
       "                                               Details  \n",
       "0                                                  All  \n",
       "1                                                  NaN  \n",
       "2                                                  NaN  \n",
       "3                                                  NaN  \n",
       "4                                                  NaN  \n",
       "..                                                 ...  \n",
       "507                                                NaN  \n",
       "508                  All except MA, MS, NY, RI, TX, WI  \n",
       "509                                                NaN  \n",
       "510                                         LA, MI, WI  \n",
       "511  * Observed only in part of this state. ** Obse...  \n",
       "\n",
       "[512 rows x 5 columns]"
      ]
     },
     "execution_count": 84,
     "metadata": {},
     "output_type": "execute_result"
    }
   ],
   "source": [
    "url = 'https://www.timeanddate.com/holidays/us/'\n",
    "tables = pd.read_html(url)\n",
    "holidays = tables[0]\n",
    "holidays"
   ]
  },
  {
   "cell_type": "code",
   "execution_count": 85,
   "id": "21a31876",
   "metadata": {},
   "outputs": [
    {
     "data": {
      "text/html": [
       "<div>\n",
       "<style scoped>\n",
       "    .dataframe tbody tr th:only-of-type {\n",
       "        vertical-align: middle;\n",
       "    }\n",
       "\n",
       "    .dataframe tbody tr th {\n",
       "        vertical-align: top;\n",
       "    }\n",
       "\n",
       "    .dataframe thead th {\n",
       "        text-align: right;\n",
       "    }\n",
       "</style>\n",
       "<table border=\"1\" class=\"dataframe\">\n",
       "  <thead>\n",
       "    <tr style=\"text-align: right;\">\n",
       "      <th></th>\n",
       "      <th>Date</th>\n",
       "      <th>Day</th>\n",
       "      <th>Name</th>\n",
       "      <th>Type</th>\n",
       "      <th>Details</th>\n",
       "    </tr>\n",
       "  </thead>\n",
       "  <tbody>\n",
       "    <tr>\n",
       "      <th>506</th>\n",
       "      <td>Dec 27</td>\n",
       "      <td>Monday</td>\n",
       "      <td>International Day of Epidemic Preparedness</td>\n",
       "      <td>United Nations observance</td>\n",
       "      <td>NaN</td>\n",
       "    </tr>\n",
       "    <tr>\n",
       "      <th>507</th>\n",
       "      <td>Dec 31</td>\n",
       "      <td>Friday</td>\n",
       "      <td>Day off for New Year's Day</td>\n",
       "      <td>Federal Holiday</td>\n",
       "      <td>NaN</td>\n",
       "    </tr>\n",
       "    <tr>\n",
       "      <th>508</th>\n",
       "      <td>Dec 31</td>\n",
       "      <td>Friday</td>\n",
       "      <td>Day off for New Year's Day</td>\n",
       "      <td>State holiday</td>\n",
       "      <td>All except MA, MS, NY, RI, TX, WI</td>\n",
       "    </tr>\n",
       "    <tr>\n",
       "      <th>509</th>\n",
       "      <td>Dec 31</td>\n",
       "      <td>Friday</td>\n",
       "      <td>New Year's Eve</td>\n",
       "      <td>Observance</td>\n",
       "      <td>NaN</td>\n",
       "    </tr>\n",
       "    <tr>\n",
       "      <th>510</th>\n",
       "      <td>Dec 31</td>\n",
       "      <td>Friday</td>\n",
       "      <td>New Year's Eve</td>\n",
       "      <td>State holiday</td>\n",
       "      <td>LA, MI, WI</td>\n",
       "    </tr>\n",
       "  </tbody>\n",
       "</table>\n",
       "</div>"
      ],
      "text/plain": [
       "       Date     Day                                        Name  \\\n",
       "506  Dec 27  Monday  International Day of Epidemic Preparedness   \n",
       "507  Dec 31  Friday                  Day off for New Year's Day   \n",
       "508  Dec 31  Friday                  Day off for New Year's Day   \n",
       "509  Dec 31  Friday                              New Year's Eve   \n",
       "510  Dec 31  Friday                              New Year's Eve   \n",
       "\n",
       "                          Type                            Details  \n",
       "506  United Nations observance                                NaN  \n",
       "507            Federal Holiday                                NaN  \n",
       "508              State holiday  All except MA, MS, NY, RI, TX, WI  \n",
       "509                 Observance                                NaN  \n",
       "510              State holiday                         LA, MI, WI  "
      ]
     },
     "execution_count": 85,
     "metadata": {},
     "output_type": "execute_result"
    }
   ],
   "source": [
    "holidays_new = pd.DataFrame(data = [holidays['Date']['Date'],\n",
    "                            holidays['Unnamed: 1_level_0']['Unnamed: 1_level_1'],\n",
    "                            holidays['Name']['Name'],\n",
    "                            holidays['Type']['Type'],\n",
    "                            holidays['Details']['Details']])\n",
    "holidays_new = holidays_new.T\n",
    "holidays_new.rename(columns={'Unnamed: 1_level_1':'Day'},inplace=True)\n",
    "holidays_new.drop(index=511,inplace=True)\n",
    "holidays_new.dropna(subset=['Date'],inplace=True)\n",
    "holidays_new.tail()"
   ]
  },
  {
   "cell_type": "code",
   "execution_count": null,
   "id": "0beefc2a",
   "metadata": {},
   "outputs": [],
   "source": []
  },
  {
   "cell_type": "code",
   "execution_count": 86,
   "id": "9a878eaa",
   "metadata": {},
   "outputs": [
    {
     "name": "stdout",
     "output_type": "stream",
     "text": [
      "2021-10-06\n"
     ]
    }
   ],
   "source": [
    "from datetime import date, datetime\n",
    "print(date.today())\n",
    "from dateutil import parser\n",
    "\n",
    "dt = []\n",
    "for x in holidays_new['Date']:\n",
    "    tmp = parser.parse(x).date()\n",
    "    dt.append(tmp)\n",
    "holidays_new['Date'] = dt"
   ]
  },
  {
   "cell_type": "code",
   "execution_count": 99,
   "id": "9e4d0795",
   "metadata": {},
   "outputs": [
    {
     "data": {
      "text/plain": [
       "datetime.date(2021, 1, 1)"
      ]
     },
     "execution_count": 99,
     "metadata": {},
     "output_type": "execute_result"
    }
   ],
   "source": [
    "holidays_new['Date'][0]"
   ]
  },
  {
   "cell_type": "code",
   "execution_count": 100,
   "id": "3bf7b303",
   "metadata": {},
   "outputs": [
    {
     "data": {
      "text/plain": [
       "datetime.date(2021, 10, 6)"
      ]
     },
     "execution_count": 100,
     "metadata": {},
     "output_type": "execute_result"
    }
   ],
   "source": [
    "date.today()"
   ]
  },
  {
   "cell_type": "code",
   "execution_count": 106,
   "id": "c00e1a1d",
   "metadata": {},
   "outputs": [],
   "source": [
    "from datetime import timedelta\n",
    "hol = holidays_new.loc[(holidays_new['Date']==date.today())|\n",
    "                (holidays_new['Date']==(date.today()+timedelta(days=1)))|\n",
    "                (holidays_new['Date']==(date.today()+timedelta(days=2)))|\n",
    "                (holidays_new['Date']==(date.today()+timedelta(days=3)))|\n",
    "                (holidays_new['Date']==(date.today()+timedelta(days=4)))|\n",
    "                (holidays_new['Date']==(date.today()+timedelta(days=5)))]"
   ]
  },
  {
   "cell_type": "code",
   "execution_count": 108,
   "id": "705c053f",
   "metadata": {},
   "outputs": [],
   "source": [
    "result = hol.to_json(orient=\"index\")"
   ]
  },
  {
   "cell_type": "code",
   "execution_count": 109,
   "id": "75d3b2e8",
   "metadata": {},
   "outputs": [
    {
     "data": {
      "text/plain": [
       "'{\"386\":{\"Date\":1633478400000,\"Day\":\"Wednesday\",\"Name\":\"World Cerebral Palsy Day\",\"Type\":\"Worldwide observance\",\"Details\":null},\"387\":{\"Date\":1633737600000,\"Day\":\"Saturday\",\"Name\":\"World Post Day\",\"Type\":\"United Nations observance\",\"Details\":null},\"388\":{\"Date\":1633737600000,\"Day\":\"Saturday\",\"Name\":\"Leif Erikson Day\",\"Type\":\"Observance\",\"Details\":null},\"389\":{\"Date\":1633824000000,\"Day\":\"Sunday\",\"Name\":\"World Mental Health Day\",\"Type\":\"United Nations observance\",\"Details\":null},\"390\":{\"Date\":1633824000000,\"Day\":\"Sunday\",\"Name\":\"Chicago Marathon\",\"Type\":\"Sporting event\",\"Details\":null},\"391\":{\"Date\":1633910400000,\"Day\":\"Monday\",\"Name\":\"International Day of the Girl Child\",\"Type\":\"United Nations observance\",\"Details\":null},\"392\":{\"Date\":1633910400000,\"Day\":\"Monday\",\"Name\":\"Columbus Day\",\"Type\":\"State Legal Holiday\",\"Details\":\"Tennessee\"},\"393\":{\"Date\":1633910400000,\"Day\":\"Monday\",\"Name\":\"Columbus Day\",\"Type\":\"State holiday\",\"Details\":\"22 states\"},\"394\":{\"Date\":1633910400000,\"Day\":\"Monday\",\"Name\":\"Columbus Day\",\"Type\":\"Federal Holiday\",\"Details\":null},\"395\":{\"Date\":1633910400000,\"Day\":\"Monday\",\"Name\":\"Fraternal Day\",\"Type\":\"State holiday\",\"Details\":\"Alabama\"},\"396\":{\"Date\":1633910400000,\"Day\":\"Monday\",\"Name\":\"Yorktown Victory Day\",\"Type\":\"State holiday\",\"Details\":\"Virginia\"},\"397\":{\"Date\":1633910400000,\"Day\":\"Monday\",\"Name\":\"Discoverers\\\\u2019 Day\",\"Type\":\"State Observation\",\"Details\":\"Hawaii\"},\"398\":{\"Date\":1633910400000,\"Day\":\"Monday\",\"Name\":\"Native American Day\",\"Type\":\"State Observation\",\"Details\":\"Oklahoma\"},\"399\":{\"Date\":1633910400000,\"Day\":\"Monday\",\"Name\":\"Native American Day\",\"Type\":\"State holiday\",\"Details\":\"South Dakota\"},\"400\":{\"Date\":1633910400000,\"Day\":\"Monday\",\"Name\":\"Indigenous People\\'s Day (Tentative Date)\",\"Type\":\"State Observation\",\"Details\":\"CA, ID, LA, MI, MN, OR\"},\"401\":{\"Date\":1633910400000,\"Day\":\"Monday\",\"Name\":\"Indigenous People\\'s Day\",\"Type\":\"State Observation\",\"Details\":\"28 states\"},\"402\":{\"Date\":1633910400000,\"Day\":\"Monday\",\"Name\":\"Indigenous People\\'s Day\",\"Type\":\"State holiday\",\"Details\":\"DC, ME, NM\"},\"403\":{\"Date\":1633910400000,\"Day\":\"Monday\",\"Name\":\"American Indian Heritage Day\",\"Type\":\"State holiday\",\"Details\":\"Alabama\"},\"404\":{\"Date\":1633910400000,\"Day\":\"Monday\",\"Name\":\"Boston Marathon (Tentative Date)\",\"Type\":\"Sporting event\",\"Details\":null}}'"
      ]
     },
     "execution_count": 109,
     "metadata": {},
     "output_type": "execute_result"
    }
   ],
   "source": []
  },
  {
   "cell_type": "code",
   "execution_count": null,
   "id": "78565043",
   "metadata": {},
   "outputs": [],
   "source": [
    "mars_profile = tables[1]\n",
    "mars_info = mars_profile.to_html(index=False, header=False)"
   ]
  },
  {
   "cell_type": "code",
   "execution_count": null,
   "id": "4236d84e",
   "metadata": {},
   "outputs": [],
   "source": [
    "browser.visit(url)\n",
    "\n",
    "html = browser.html\n",
    "soup = bs(html, 'html.parser')\n",
    "\n",
    "results = soup.find_all('p')\n",
    "astro = results[0].find_all('a')"
   ]
  },
  {
   "cell_type": "code",
   "execution_count": 3,
   "id": "5e746118",
   "metadata": {},
   "outputs": [],
   "source": [
    "browser.quit()"
   ]
  },
  {
   "cell_type": "code",
   "execution_count": null,
   "id": "066bb278",
   "metadata": {},
   "outputs": [],
   "source": []
  }
 ],
 "metadata": {
  "kernelspec": {
   "display_name": "Python 3",
   "language": "python",
   "name": "python3"
  },
  "language_info": {
   "codemirror_mode": {
    "name": "ipython",
    "version": 3
   },
   "file_extension": ".py",
   "mimetype": "text/x-python",
   "name": "python",
   "nbconvert_exporter": "python",
   "pygments_lexer": "ipython3",
   "version": "3.6.10"
  }
 },
 "nbformat": 4,
 "nbformat_minor": 5
}
